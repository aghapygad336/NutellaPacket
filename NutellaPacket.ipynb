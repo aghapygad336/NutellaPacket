{
  "nbformat": 4,
  "nbformat_minor": 0,
  "metadata": {
    "colab": {
      "name": "NutellaPacket",
      "provenance": [],
      "authorship_tag": "ABX9TyPAOto0xqBxT24yuIyTqqIV",
      "include_colab_link": true
    },
    "kernelspec": {
      "name": "python3",
      "display_name": "Python 3"
    }
  },
  "cells": [
    {
      "cell_type": "markdown",
      "metadata": {
        "id": "view-in-github",
        "colab_type": "text"
      },
      "source": [
        "<a href=\"https://colab.research.google.com/github/aghapygad336/NutellaPacket/blob/master/NutellaPacket.ipynb\" target=\"_parent\"><img src=\"https://colab.research.google.com/assets/colab-badge.svg\" alt=\"Open In Colab\"/></a>"
      ]
    },
    {
      "cell_type": "markdown",
      "metadata": {
        "id": "GP1e82UAs7Eg",
        "colab_type": "text"
      },
      "source": [
        "$NutellaPacket$"
      ]
    },
    {
      "cell_type": "code",
      "metadata": {
        "id": "ItH9yquYmDhc",
        "colab_type": "code",
        "colab": {}
      },
      "source": [
        "import json\n",
        "from struct import *\n"
      ],
      "execution_count": 0,
      "outputs": []
    },
    {
      "cell_type": "code",
      "metadata": {
        "id": "LGkv06NymJLo",
        "colab_type": "code",
        "colab": {}
      },
      "source": [
        "class NutellaPacket:  \n",
        "    \n",
        "    # init method or constructor   \n",
        "    def __init__(self, id_,secret_code,package_size,nutella_eater): \n",
        "        self.id_ = id_ \n",
        "        self.secret_code = secret_code \n",
        "        self.package_size = package_size  \n",
        "        self.nutella_eater = nutella_eater  \n",
        "    \n"
      ],
      "execution_count": 0,
      "outputs": []
    },
    {
      "cell_type": "markdown",
      "metadata": {
        "id": "vKttDb1csqBk",
        "colab_type": "text"
      },
      "source": [
        "$ Python$ $And$ $JSON $"
      ]
    },
    {
      "cell_type": "code",
      "metadata": {
        "id": "pjNxqN4RldsS",
        "colab_type": "code",
        "colab": {
          "base_uri": "https://localhost:8080/",
          "height": 84
        },
        "outputId": "2ea277ca-350c-4715-bf05-3ec701d1e583"
      },
      "source": [
        "eater = NutellaPacket('888888','ashley',3,'123456')\n",
        "jsonObj = json.dumps(eater.__dict__)\n",
        "print(\"JSON\",jsonObj)\n",
        "print(\"\\n\")\n",
        "y = json.loads(jsonObj)\n",
        "packObject = struct.pack(\"Ipip\",int(y['id_']), a.encode('ascii'),5,'mmm'.encode('ascii'))\n",
        "packObject"
      ],
      "execution_count": 121,
      "outputs": [
        {
          "output_type": "stream",
          "text": [
            "JSON {\"id_\": \"888888\", \"secret_code\": \"ashley\", \"package_size\": 3, \"nutella_eater\": \"123456\"}\n",
            "\n",
            "\n"
          ],
          "name": "stdout"
        },
        {
          "output_type": "execute_result",
          "data": {
            "text/plain": [
              "b'8\\x90\\r\\x00\\x00\\x00\\x00\\x00\\x05\\x00\\x00\\x00\\x00'"
            ]
          },
          "metadata": {
            "tags": []
          },
          "execution_count": 121
        }
      ]
    }
  ]
}