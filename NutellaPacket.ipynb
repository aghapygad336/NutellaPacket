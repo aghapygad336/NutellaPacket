{
  "nbformat": 4,
  "nbformat_minor": 0,
  "metadata": {
    "colab": {
      "name": "NutellaPacket",
      "provenance": [],
      "collapsed_sections": [],
      "authorship_tag": "ABX9TyPfl6GVbZrestEA1YMlTltv",
      "include_colab_link": true
    },
    "kernelspec": {
      "name": "python3",
      "display_name": "Python 3"
    }
  },
  "cells": [
    {
      "cell_type": "markdown",
      "metadata": {
        "id": "view-in-github",
        "colab_type": "text"
      },
      "source": [
        "<a href=\"https://colab.research.google.com/github/aghapygad336/NutellaPacket/blob/master/NutellaPacket.ipynb\" target=\"_parent\"><img src=\"https://colab.research.google.com/assets/colab-badge.svg\" alt=\"Open In Colab\"/></a>"
      ]
    },
    {
      "cell_type": "code",
      "metadata": {
        "id": "ItH9yquYmDhc",
        "colab_type": "code",
        "colab": {}
      },
      "source": [
        "import json\n",
        "import struct\n",
        "import re\n"
      ],
      "execution_count": 0,
      "outputs": []
    },
    {
      "cell_type": "markdown",
      "metadata": {
        "id": "GP1e82UAs7Eg",
        "colab_type": "text"
      },
      "source": [
        "$Class$  $Nutella$ $Packet$"
      ]
    },
    {
      "cell_type": "code",
      "metadata": {
        "id": "LGkv06NymJLo",
        "colab_type": "code",
        "colab": {}
      },
      "source": [
        "class NutellaPacket:  \n",
        "    \n",
        "    def __init__(self, id_,secret_code,package_size,nutella_eater): \n",
        "        self.id_ = id_ \n",
        "        self.secret_code = secret_code \n",
        "        self.package_size = package_size  \n",
        "        self.nutella_eater = nutella_eater  \n",
        "    \n"
      ],
      "execution_count": 0,
      "outputs": []
    },
    {
      "cell_type": "code",
      "metadata": {
        "id": "C2hX8PLf0cpf",
        "colab_type": "code",
        "colab": {}
      },
      "source": [
        " def testInt(sIn,n):\n",
        "    x = re.search('[a-zA-Z]+',sIn) \n",
        "    if x:\n",
        "        print(\"not Valid it Must Be Integer\")\n",
        "\n",
        "   "
      ],
      "execution_count": 0,
      "outputs": []
    },
    {
      "cell_type": "code",
      "metadata": {
        "id": "EMymZinlDDyD",
        "colab_type": "code",
        "colab": {
          "base_uri": "https://localhost:8080/",
          "height": 34
        },
        "outputId": "0b628171-dc33-452d-e95c-76df725de653"
      },
      "source": [
        "inputString='j'\n",
        "tf=any(char.isdigit() for char in inputString)\n",
        "tf"
      ],
      "execution_count": 52,
      "outputs": [
        {
          "output_type": "execute_result",
          "data": {
            "text/plain": [
              "False"
            ]
          },
          "metadata": {
            "tags": []
          },
          "execution_count": 52
        }
      ]
    },
    {
      "cell_type": "markdown",
      "metadata": {
        "id": "vKttDb1csqBk",
        "colab_type": "text"
      },
      "source": [
        "$Packet$ $And$ $JSON $"
      ]
    },
    {
      "cell_type": "code",
      "metadata": {
        "id": "pjNxqN4RldsS",
        "colab_type": "code",
        "colab": {}
      },
      "source": [
        "def jsonFunction(n):\n",
        "    n=int(n)+1\n",
        "    json_data_list=[]\n",
        "    for i in range(1,n):\n",
        "        id_in = input(\"Enter your id: \") \n",
        "        testInt(id_in,n)\n",
        "        secret_code_in = input(\"Enter your secret Code: \") \n",
        "        package_size_in = input(\"Enter your package size: \") \n",
        "        testInt(id_in,n)\n",
        "\n",
        "        nutella_eater_in = input(\"Enter your Eater: \") \n",
        "        eater = NutellaPacket(id_in,secret_code_in,package_size_in,nutella_eater_in)\n",
        "        jsonObj = json.dumps(eater.__dict__)\n",
        "        json_data_list.append(jsonObj)\n",
        "\n",
        "    return json_data_list\n"
      ],
      "execution_count": 0,
      "outputs": []
    },
    {
      "cell_type": "code",
      "metadata": {
        "id": "DdNH8qno8gmk",
        "colab_type": "code",
        "colab": {}
      },
      "source": [
        "import struct\n",
        "def serialize():\n",
        "    numberOfUsers=input(\"Enter your number of users: \")\n",
        "    json_data_list= jsonFunction(numberOfUsers)\n",
        "    packObjects=[]\n",
        "    for a in range(0,len(json_data_list)):\n",
        "        x=json_data_list[a]\n",
        "        encode_json_eater=x.encode(\"ascii\")\n",
        "        print(\"encode_json_person:\",encode_json_eater)\n",
        "        pack_encode_json_eater=struct.pack(\"{}s\".format(len(encode_json_eater)),encode_json_eater)\n",
        "        print(\"pack encode json eater :\",pack_encode_json_eater)\n",
        "        packObjects.append(pack_encode_json_eater)\n",
        "        print(\"Packed Encoded JSON Eater Type -->\",type(pack_encode_json_eater))\n",
        "        unpack_encode_json,=struct.unpack(\"{}s\".format(len(pack_encode_json_eater)),pack_encode_json_eater)\n",
        "        recover_eater=json.loads(unpack_encode_json.decode())\n",
        "        print(\"recover_person:\",recover_eater)\n",
        "        print(\"serialized eater:\",list(packObjects[a]))\n",
        "\n",
        "\n",
        "    return packObjects"
      ],
      "execution_count": 0,
      "outputs": []
    },
    {
      "cell_type": "code",
      "metadata": {
        "id": "cNhx9TezHXFu",
        "colab_type": "code",
        "outputId": "ca403bff-be18-40b1-86bb-3da6895935c8",
        "colab": {
          "base_uri": "https://localhost:8080/",
          "height": 205
        }
      },
      "source": [
        "MypackObjects=serialize()"
      ],
      "execution_count": 50,
      "outputs": [
        {
          "output_type": "stream",
          "text": [
            "Enter your number of users: 1\n",
            "Enter your id: 45\n",
            "Enter your secret Code: helloNetworks\n",
            "Enter your package size: 5\n",
            "Enter your Eater: Jam\n",
            "encode_json_person: b'{\"id_\": \"45\", \"secret_code\": \"helloNetworks\", \"package_size\": \"5\", \"nutella_eater\": \"Jam\"}'\n",
            "pack encode json eater : b'{\"id_\": \"45\", \"secret_code\": \"helloNetworks\", \"package_size\": \"5\", \"nutella_eater\": \"Jam\"}'\n",
            "Packed Encoded JSON Eater Type --> <class 'bytes'>\n",
            "recover_person: {'id_': '45', 'secret_code': 'helloNetworks', 'package_size': '5', 'nutella_eater': 'Jam'}\n",
            "serialized eater: [123, 34, 105, 100, 95, 34, 58, 32, 34, 52, 53, 34, 44, 32, 34, 115, 101, 99, 114, 101, 116, 95, 99, 111, 100, 101, 34, 58, 32, 34, 104, 101, 108, 108, 111, 78, 101, 116, 119, 111, 114, 107, 115, 34, 44, 32, 34, 112, 97, 99, 107, 97, 103, 101, 95, 115, 105, 122, 101, 34, 58, 32, 34, 53, 34, 44, 32, 34, 110, 117, 116, 101, 108, 108, 97, 95, 101, 97, 116, 101, 114, 34, 58, 32, 34, 74, 97, 109, 34, 125]\n"
          ],
          "name": "stdout"
        }
      ]
    }
  ]
}